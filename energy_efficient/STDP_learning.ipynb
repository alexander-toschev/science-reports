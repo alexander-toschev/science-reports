{
 "cells": [
  {
   "cell_type": "code",
   "execution_count": 1,
   "id": "ef9b36ab-5d7a-472c-b206-1c45ac9cc9f7",
   "metadata": {},
   "outputs": [
    {
     "name": "stdout",
     "output_type": "stream",
     "text": [
      "Looking in links: https://download.pytorch.org/whl/torch_stable.html\n",
      "\u001b[31mERROR: Could not find a version that satisfies the requirement torch==1.13.1+cu116 (from versions: 1.11.0, 1.12.0, 1.12.1, 1.13.0, 1.13.1, 2.0.0, 2.0.1, 2.1.0, 2.1.1, 2.1.2, 2.2.0, 2.2.1, 2.2.2, 2.3.0, 2.3.1, 2.4.0, 2.4.1, 2.5.0, 2.5.1, 2.6.0, 2.7.0, 2.7.1)\u001b[0m\u001b[31m\n",
      "\u001b[0m\u001b[31mERROR: No matching distribution found for torch==1.13.1+cu116\u001b[0m\u001b[31m\n",
      "\u001b[0m"
     ]
    }
   ],
   "source": [
    "!pip install bindsnet"
   ]
  },
  {
   "cell_type": "code",
   "execution_count": null,
   "id": "388859cd-fd35-47de-b96a-68d09f790e9b",
   "metadata": {},
   "outputs": [],
   "source": [
    "\n",
    "# ⚠️ Установка BindsNET\n",
    "#!pip install bindsnet\n",
    "\n",
    "# 📦 Импорты\n",
    "import torch\n",
    "from bindsnet.datasets import MNIST\n",
    "from bindsnet.encoding import PoissonEncoder\n",
    "from bindsnet.network import Network\n",
    "from bindsnet.network.nodes import Input, IzhikevichNodes\n",
    "from bindsnet.network.topology import Connection\n",
    "from bindsnet.learning import PostPre\n",
    "from bindsnet.analysis.plotting import plot_spikes, plot_weights\n",
    "from bindsnet.pipeline import EnvironmentPipeline\n",
    "import matplotlib.pyplot as plt\n",
    "\n",
    "# 🎯 Параметры\n",
    "time = 100  # временное окно\n",
    "n_hidden = 100\n",
    "batch_size = 1\n",
    "\n",
    "# 🧠 Инициализация сети\n",
    "net = Network()\n",
    "\n",
    "# Входной слой\n",
    "input_layer = Input(n=784, shape=(1, 28, 28))\n",
    "net.add_layer(input_layer, name='Input')\n",
    "\n",
    "# Скрытый слой на нейронах Ижикевича\n",
    "izh_layer = IzhikevichNodes(n=n_hidden)\n",
    "net.add_layer(izh_layer, name='Izh')\n",
    "\n",
    "# Связи и STDP\n",
    "connection = Connection(source=input_layer, target=izh_layer)\n",
    "net.add_connection(connection, source='Input', target='Izh')\n",
    "\n",
    "# STDP-обучение\n",
    "stdp = PostPre(connection=connection, nu=(0.01, -0.01))\n",
    "net.add_learning_rule(stdp, connection=connection)\n",
    "\n",
    "# 📚 Загрузка датасета MNIST\n",
    "dataset = MNIST(encoding=PoissonEncoder(time=time), train=True, download=True)\n",
    "\n",
    "# 🚀 Обучение и визуализация\n",
    "for i in range(10):\n",
    "    sample, label = dataset[i]\n",
    "    sample = sample.view(time, 1, 784)\n",
    "    inpts = {'Input': sample}\n",
    "    net.run(inpts=inpts, time=time)\n",
    "\n",
    "    # Визуализация после 1, 5, 10 итерации\n",
    "    if i in [0, 4, 9]:\n",
    "        # Спайки\n",
    "        spikes = {name: layer.s for name, layer in net.layers.items()}\n",
    "        plot_spikes(spikes)\n",
    "        plt.suptitle(f\"Spikes after sample {i+1}\")\n",
    "        plt.show()\n",
    "\n",
    "        # Веса\n",
    "        plot_weights(connection.w, wmax=1.0)\n",
    "        plt.title(f\"Weights after sample {i+1}\")\n",
    "        plt.show()\n",
    "\n",
    "    net.reset_()\n"
   ]
  }
 ],
 "metadata": {
  "kernelspec": {
   "display_name": "Python 3 (ipykernel)",
   "language": "python",
   "name": "python3"
  },
  "language_info": {
   "codemirror_mode": {
    "name": "ipython",
    "version": 3
   },
   "file_extension": ".py",
   "mimetype": "text/x-python",
   "name": "python",
   "nbconvert_exporter": "python",
   "pygments_lexer": "ipython3",
   "version": "3.10.13"
  }
 },
 "nbformat": 4,
 "nbformat_minor": 5
}
